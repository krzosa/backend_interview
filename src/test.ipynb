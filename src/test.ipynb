{
 "nbformat": 4,
 "nbformat_minor": 2,
 "metadata": {
  "language_info": {
   "name": "python",
   "codemirror_mode": {
    "name": "ipython",
    "version": 3
   },
   "version": "3.8.2-final"
  },
  "orig_nbformat": 2,
  "file_extension": ".py",
  "mimetype": "text/x-python",
  "name": "python",
  "npconvert_exporter": "python",
  "pygments_lexer": "ipython3",
  "version": 3,
  "kernelspec": {
   "name": "python38264bitvenvvenv010d51d452b94fd18fb90162073e4421",
   "display_name": "Python 3.8.2 64-bit ('venv': venv)"
  }
 },
 "cells": [
  {
   "cell_type": "code",
   "execution_count": 19,
   "metadata": {},
   "outputs": [
    {
     "output_type": "stream",
     "name": "stdout",
     "text": "{'Content-Type': 'application/json', 'Content-Length': '80', 'Server': 'Werkzeug/1.0.0 Python/3.8.2', 'Date': 'Wed, 01 Apr 2020 11:44:06 GMT'}\n\n200\n"
    }
   ],
   "source": [
    "import requests\n",
    "\n",
    "data = {\"payload\":\"lalala\"}\n",
    "\n",
    "# adding data/posting data\n",
    "res = requests.post('http://localhost:9292/schemas', json=data)\n",
    "# print(\"%s\\n\\n%s\" % (res.headers, res.json()))\n",
    "print(\"%s\\n\\n%s\" % (res.headers, res.status_code))"
   ]
  },
  {
   "cell_type": "code",
   "execution_count": 20,
   "metadata": {},
   "outputs": [
    {
     "output_type": "stream",
     "name": "stdout",
     "text": "{'Content-Type': 'application/json', 'Content-Length': '24', 'Server': 'Werkzeug/1.0.0 Python/3.8.2', 'Date': 'Wed, 01 Apr 2020 11:44:09 GMT'}\n\n{'payload': 'lalala'}\n"
    }
   ],
   "source": [
    "# retrieving data \n",
    "hashid = res.json()['hashlink']\n",
    "res = requests.get('http://localhost:9292/schemas/' + hashid)\n",
    "print(\"%s\\n\\n%s\" % (res.headers, res.json()))"
   ]
  },
  {
   "cell_type": "code",
   "execution_count": 21,
   "metadata": {},
   "outputs": [
    {
     "output_type": "stream",
     "name": "stdout",
     "text": "pass\n"
    }
   ],
   "source": [
    "assert str(res.json()) == str(data)\n",
    "print(\"pass\")"
   ]
  },
  {
   "cell_type": "code",
   "execution_count": 22,
   "metadata": {},
   "outputs": [
    {
     "output_type": "stream",
     "name": "stdout",
     "text": "pass\n{'Content-Type': 'application/json', 'Content-Length': '80', 'Server': 'Werkzeug/1.0.0 Python/3.8.2', 'Date': 'Wed, 01 Apr 2020 11:44:11 GMT'}\n\n{'hashlink': '114910cf62f6968eb270d46c812d1011c047a7d4a7019a9ce86f58ae2ce9a368'}\n"
    }
   ],
   "source": [
    "# posting exactly the same data\n",
    "res = requests.post('http://localhost:9292/schemas', json=data)\n",
    "assert res.json()['hashlink'] == hashid\n",
    "print(\"pass\")\n",
    "print(\"%s\\n\\n%s\" % (res.headers, res.json()))"
   ]
  },
  {
   "cell_type": "markdown",
   "metadata": {},
   "source": [
    "### invalid request/no data\n"
   ]
  },
  {
   "cell_type": "code",
   "execution_count": 25,
   "metadata": {},
   "outputs": [
    {
     "output_type": "stream",
     "name": "stdout",
     "text": "{'Content-Type': 'text/html; charset=utf-8', 'Content-Length': '15', 'Server': 'Werkzeug/1.0.0 Python/3.8.2', 'Date': 'Wed, 01 Apr 2020 11:44:17 GMT'}\n\n400\n\ninvalid request\n"
    }
   ],
   "source": [
    "res = requests.post('http://localhost:9292/schemas', \"aaaaaaa\")\n",
    "print(\"%s\\n\\n%s\\n\\n%s\" % (res.headers, res.status_code, res.text))"
   ]
  },
  {
   "cell_type": "code",
   "execution_count": 26,
   "metadata": {},
   "outputs": [
    {
     "output_type": "stream",
     "name": "stdout",
     "text": "{'Content-Type': 'text/html; charset=utf-8', 'Content-Length': '16', 'Server': 'Werkzeug/1.0.0 Python/3.8.2', 'Date': 'Wed, 01 Apr 2020 11:44:19 GMT'}\n\n404\n\nschema not found\n"
    }
   ],
   "source": [
    "res = requests.get('http://localhost:9292/schemas/4242d')\n",
    "print(\"%s\\n\\n%s\\n\\n%s\" % (res.headers, res.status_code, res.text))"
   ]
  },
  {
   "cell_type": "code",
   "execution_count": 29,
   "metadata": {},
   "outputs": [
    {
     "output_type": "stream",
     "name": "stdout",
     "text": "{'Content-Type': 'text/html; charset=utf-8', 'Content-Length': '15', 'Server': 'Werkzeug/1.0.0 Python/3.8.2', 'Date': 'Wed, 01 Apr 2020 11:45:27 GMT'}\n\n400\n\ninvalid request\n"
    }
   ],
   "source": [
    "# invalid format\n",
    "data = \"aafafafa\"\n",
    "\n",
    "res = requests.post('http://localhost:9292/schemas', data)\n",
    "print(\"%s\\n\\n%s\\n\\n%s\" % (res.headers, res.status_code, res.text))"
   ]
  }
 ]
}