{
 "nbformat": 4,
 "nbformat_minor": 2,
 "metadata": {
  "language_info": {
   "name": "python",
   "codemirror_mode": {
    "name": "ipython",
    "version": 3
   },
   "version": "3.8.2-final"
  },
  "orig_nbformat": 2,
  "file_extension": ".py",
  "mimetype": "text/x-python",
  "name": "python",
  "npconvert_exporter": "python",
  "pygments_lexer": "ipython3",
  "version": 3,
  "kernelspec": {
   "name": "python38264bitvenvvenv010d51d452b94fd18fb90162073e4421",
   "display_name": "Python 3.8.2 64-bit ('venv': venv)"
  }
 },
 "cells": [
  {
   "cell_type": "code",
   "execution_count": 8,
   "metadata": {},
   "outputs": [
    {
     "output_type": "stream",
     "name": "stdout",
     "text": "{'Content-Type': 'application/json', 'Content-Length': '76', 'Server': 'Werkzeug/1.0.0 Python/3.8.2', 'Date': 'Wed, 01 Apr 2020 08:32:45 GMT'}\n\n{'hash': '3e65abb0c8a04e966ccc2db8653349340bbc4da757efc0ba8d7bb5ad8b504f34'}\n"
    }
   ],
   "source": [
    "import requests\n",
    "\n",
    "data = {\"mytext\":\"lalala\"}\n",
    "\n",
    "# adding data/posting data\n",
    "res = requests.post('http://localhost:9292/schemas', json=data)\n",
    "print(\"%s\\n\\n%s\" % (res.headers, res.json()))"
   ]
  },
  {
   "cell_type": "code",
   "execution_count": 9,
   "metadata": {},
   "outputs": [
    {
     "output_type": "stream",
     "name": "stdout",
     "text": "{'Content-Type': 'application/json', 'Content-Length': '23', 'Server': 'Werkzeug/1.0.0 Python/3.8.2', 'Date': 'Wed, 01 Apr 2020 08:33:09 GMT'}\n\n{'mytext': 'lalala'}\n"
    }
   ],
   "source": [
    "# retrieving data \n",
    "hashid = res.json()['hash']\n",
    "res = requests.get('http://localhost:9292/schemas/' + hashid)\n",
    "print(\"%s\\n\\n%s\" % (res.headers, res.json()))"
   ]
  },
  {
   "cell_type": "code",
   "execution_count": 58,
   "metadata": {},
   "outputs": [
    {
     "output_type": "stream",
     "name": "stdout",
     "text": "pass\n"
    }
   ],
   "source": [
    "assert str(res.json()) == str(data)\n",
    "print(\"pass\")"
   ]
  },
  {
   "cell_type": "code",
   "execution_count": 10,
   "metadata": {},
   "outputs": [
    {
     "output_type": "stream",
     "name": "stdout",
     "text": "pass\n{'Content-Type': 'application/json', 'Content-Length': '76', 'Server': 'Werkzeug/1.0.0 Python/3.8.2', 'Date': 'Wed, 01 Apr 2020 08:33:24 GMT'}\n\n{'hash': '3e65abb0c8a04e966ccc2db8653349340bbc4da757efc0ba8d7bb5ad8b504f34'}\n"
    }
   ],
   "source": [
    "# posting exactly the same data\n",
    "res = requests.post('http://localhost:9292/schemas', json=data)\n",
    "assert res.json()['hash'] == hashid\n",
    "print(\"pass\")\n",
    "print(\"%s\\n\\n%s\" % (res.headers, res.json()))"
   ]
  },
  {
   "cell_type": "code",
   "execution_count": 16,
   "metadata": {},
   "outputs": [
    {
     "output_type": "stream",
     "name": "stdout",
     "text": "{'Content-Type': 'application/json', 'Content-Length': '76', 'Server': 'Werkzeug/1.0.0 Python/3.8.2', 'Date': 'Wed, 01 Apr 2020 08:36:34 GMT'}\n\n{'hash': 'e4f47e7055c0e1d153cb3828903323b8bbc0be5f07640e3fa28cf20e3bcd8e8b'}\n"
    }
   ],
   "source": [
    "data = {\"secondtestcase\":\"yes\"}\n",
    "\n",
    "# adding data/posting data\n",
    "res = requests.post('http://localhost:9292/schemas', json=data)\n",
    "print(\"%s\\n\\n%s\" % (res.headers, res.json()))"
   ]
  },
  {
   "cell_type": "code",
   "execution_count": 17,
   "metadata": {},
   "outputs": [
    {
     "output_type": "stream",
     "name": "stdout",
     "text": "{'Content-Type': 'application/json', 'Content-Length': '28', 'Server': 'Werkzeug/1.0.0 Python/3.8.2', 'Date': 'Wed, 01 Apr 2020 08:36:37 GMT'}\n\n{'secondtestcase': 'yes'}\n"
    }
   ],
   "source": [
    "# retrieving data \n",
    "hashid = res.json()['hash']\n",
    "res = requests.get('http://localhost:9292/schemas/' + hashid)\n",
    "print(\"%s\\n\\n%s\" % (res.headers, res.json()))"
   ]
  },
  {
   "cell_type": "markdown",
   "metadata": {},
   "source": [
    "### invalid request/no data\n"
   ]
  },
  {
   "cell_type": "code",
   "execution_count": 27,
   "metadata": {},
   "outputs": [
    {
     "output_type": "stream",
     "name": "stdout",
     "text": "{'Content-Type': 'text/html; charset=utf-8', 'Content-Length': '15', 'Server': 'Werkzeug/1.0.0 Python/3.8.2', 'Date': 'Wed, 01 Apr 2020 10:31:19 GMT'}\n\n400\n\ninvalid request\n"
    }
   ],
   "source": [
    "res = requests.post('http://localhost:9292/schemas', \"aaaaaaa\")\n",
    "print(\"%s\\n\\n%s\\n\\n%s\" % (res.headers, res.status_code, res.text))"
   ]
  },
  {
   "cell_type": "code",
   "execution_count": 28,
   "metadata": {},
   "outputs": [
    {
     "output_type": "stream",
     "name": "stdout",
     "text": "{'Content-Type': 'text/html; charset=utf-8', 'Content-Length': '16', 'Server': 'Werkzeug/1.0.0 Python/3.8.2', 'Date': 'Wed, 01 Apr 2020 10:31:22 GMT'}\n\n404\n\nschema not found\n"
    }
   ],
   "source": [
    "res = requests.get('http://localhost:9292/schemas/4242d')\n",
    "print(\"%s\\n\\n%s\\n\\n%s\" % (res.headers, res.status_code, res.text))"
   ]
  }
 ]
}